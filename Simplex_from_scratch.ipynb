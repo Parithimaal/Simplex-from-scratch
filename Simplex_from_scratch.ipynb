{
 "cells": [
  {
   "cell_type": "markdown",
   "id": "349a93cb-7a8d-40fe-af7a-c3ac14893c00",
   "metadata": {},
   "source": [
    "## Refactored code "
   ]
  },
  {
   "cell_type": "code",
   "execution_count": null,
   "id": "ebe88165-2c16-4d3e-9d93-7d05a5ce581f",
   "metadata": {},
   "outputs": [],
   "source": [
    "import numpy as np"
   ]
  },
  {
   "cell_type": "markdown",
   "id": "15f93699-edf5-41de-9023-8b91dd792257",
   "metadata": {},
   "source": [
    "## Defining components of Phase I and Phase II "
   ]
  },
  {
   "cell_type": "code",
   "execution_count": null,
   "id": "16ad3f65-4aea-4131-97ba-fa024125c67a",
   "metadata": {},
   "outputs": [],
   "source": [
    "def initialize_phase1(A, b):\n",
    "    \"\"\"Constructs the Phase I problem by adding artificial variables.\"\"\"\n",
    "    m, n = A.shape\n",
    "    A_ext = np.hstack((A, np.eye(m)))  # Add artificial variables\n",
    "    c_ext = np.zeros(n + m)\n",
    "    c_ext[n:] = 1  # Minimize sum of artificial variables\n",
    "    initial_basis = list(range(n, n + m))  # Artificial vars as initial basis\n",
    "    return A_ext, b, c_ext, initial_basis\n",
    "\n",
    "def compute_reduced_costs(A, c, basis):\n",
    "    \"\"\"Computes reduced cost vector.\"\"\"\n",
    "    B = A[:, basis]\n",
    "    B_inv = np.linalg.inv(B)\n",
    "    c_B = c[basis]\n",
    "    return c - np.dot(c_B.T @ B_inv, A)\n",
    "\n",
    "def select_entering_variable(c_bar, basis):\n",
    "    \"\"\"Selects the entering variable (smallest index rule).\"\"\"\n",
    "    nonbasic_indices = [j for j in range(len(c_bar)) if j not in basis]\n",
    "    entering_candidates = [j for j in nonbasic_indices if c_bar[j] < 0]\n",
    "    return min(entering_candidates) if entering_candidates else None\n",
    "\n",
    "def compute_direction_vector(A, basis, entering_variable):\n",
    "    \"\"\"Computes the direction vector d.\"\"\"\n",
    "    B = A[:, basis]\n",
    "    B_inv = np.linalg.inv(B)\n",
    "    d = np.zeros(A.shape[1])\n",
    "    d[basis] = -np.dot(B_inv, A[:, entering_variable])\n",
    "    d[entering_variable] = 1\n",
    "    return d\n",
    "\n",
    "def select_leaving_variable(b, d, basis):\n",
    "    \"\"\"Determines the leaving variable using the minimum ratio rule.\"\"\"\n",
    "    step_sizes = [\n",
    "        b[i] / -d[basis[i]] if d[basis[i]] < 0 else float('inf')\n",
    "        for i in range(len(basis))\n",
    "    ]\n",
    "    leaving_index = np.argmin(step_sizes)\n",
    "    return basis[leaving_index] if step_sizes[leaving_index] != float('inf') else None\n",
    "\n",
    "def update_basis(basis, entering_variable, leaving_variable):\n",
    "    \"\"\"Updates the basis with the entering and leaving variables.\"\"\"\n",
    "    basis[basis.index(leaving_variable)] = entering_variable"
   ]
  },
  {
   "cell_type": "markdown",
   "id": "6a9a70c3-aded-4b00-9712-26acbaebbbad",
   "metadata": {},
   "source": [
    "## Simplex phase I and phase II"
   ]
  },
  {
   "cell_type": "code",
   "execution_count": null,
   "id": "bc757409-4566-43de-ae56-a989c777a369",
   "metadata": {},
   "outputs": [],
   "source": [
    "def simplex_phase1(A, b):\n",
    "    \"\"\"Phase I: Finds an initial feasible basis.\"\"\"\n",
    "    A_ext, b, c_ext, initial_basis = initialize_phase1(A, b)\n",
    "    basis = simplex_phase2(A_ext, b, c_ext, initial_basis, phase1=True)\n",
    "    \n",
    "    # If any artificial variable is in the final basis, LP is infeasible\n",
    "    if basis is None or any(var >= A.shape[1] for var in basis):\n",
    "        return None  # No feasible solution\n",
    "    \n",
    "    return basis  # Feasible basis for Phase II\n",
    "\n",
    "def simplex_phase2(A, b, c, initial_basis, phase1=False):\n",
    "    \"\"\"Phase II: Solves the main optimization problem.\"\"\"\n",
    "    basis = initial_basis.copy()\n",
    "    \n",
    "    while True:\n",
    "        c_bar = compute_reduced_costs(A, c, basis)\n",
    "        entering_variable = select_entering_variable(c_bar, basis)\n",
    "        \n",
    "        if entering_variable is None:  # Optimal solution found\n",
    "            basis.sort()\n",
    "            return basis\n",
    "        \n",
    "        d = compute_direction_vector(A, basis, entering_variable)\n",
    "        if np.all(d[basis] >= 0):  # Unbounded problem\n",
    "            return None\n",
    "        \n",
    "        leaving_variable = select_leaving_variable(b, d, basis)\n",
    "        if leaving_variable is None:  # No valid leaving variable\n",
    "            return None\n",
    "        \n",
    "        update_basis(basis, entering_variable, leaving_variable)"
   ]
  },
  {
   "cell_type": "markdown",
   "id": "2fced098-1e48-42d6-b121-68a8558dcebc",
   "metadata": {},
   "source": [
    "## Sample problem and implementation"
   ]
  },
  {
   "cell_type": "code",
   "execution_count": 6,
   "id": "ef18fabf-8fc7-42d7-a829-c14341727898",
   "metadata": {},
   "outputs": [
    {
     "name": "stdout",
     "output_type": "stream",
     "text": [
      "Initial feasible basis found: [1, 3]\n",
      "Optimal basis after Phase II: [0, 3]\n"
     ]
    }
   ],
   "source": [
    "# Define the constraint matrix A, right-hand side b, and cost vector c\n",
    "A = np.array([[1, 1, 1, 0], \n",
    "              [2, 3, 0, 1]])\n",
    "\n",
    "b = np.array([4, 12])\n",
    "\n",
    "c = np.array([-3, -1, 0, 0])  # Objective function coefficients\n",
    "\n",
    "# Run Phase I to find an initial feasible basis\n",
    "initial_basis = simplex_phase1(A, b)\n",
    "\n",
    "if initial_basis:\n",
    "    print(\"Initial feasible basis found:\", initial_basis)\n",
    "    \n",
    "    # Run Phase II (actual optimization)\n",
    "    optimal_basis = simplex_phase2(A, b, c, initial_basis)\n",
    "    print(\"Optimal basis after Phase II:\", optimal_basis)\n",
    "else:\n",
    "    print(\"The original LP is infeasible.\")"
   ]
  },
  {
   "cell_type": "code",
   "execution_count": null,
   "id": "39a7a2d4-1d66-4c57-9f32-eb905973dacd",
   "metadata": {},
   "outputs": [],
   "source": []
  }
 ],
 "metadata": {
  "kernelspec": {
   "display_name": "Python 3 (ipykernel)",
   "language": "python",
   "name": "python3"
  },
  "language_info": {
   "codemirror_mode": {
    "name": "ipython",
    "version": 3
   },
   "file_extension": ".py",
   "mimetype": "text/x-python",
   "name": "python",
   "nbconvert_exporter": "python",
   "pygments_lexer": "ipython3",
   "version": "3.12.7"
  }
 },
 "nbformat": 4,
 "nbformat_minor": 5
}
